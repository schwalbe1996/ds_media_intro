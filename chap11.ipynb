{
 "cells": [
  {
   "attachments": {},
   "cell_type": "markdown",
   "metadata": {},
   "source": [
    "[![Colabで開く](https://colab.research.google.com/assets/colab-badge.svg)](https://colab.research.google.com/github/schwalbe1996/ds_media_intro/blob/main/chap11.ipynb)"
   ]
  },
  {
   "attachments": {},
   "cell_type": "markdown",
   "metadata": {},
   "source": [
    "# 11章「画像データの概要」"
   ]
  },
  {
   "cell_type": "code",
   "execution_count": null,
   "metadata": {},
   "outputs": [],
   "source": [
    "!wget -nc https://github.com/schwalbe1996/ds_media_intro/raw/main/sample.png"
   ]
  },
  {
   "cell_type": "code",
   "execution_count": null,
   "metadata": {},
   "outputs": [],
   "source": [
    "import cv2\n",
    "import matplotlib.pyplot as plt\n",
    "import numpy as np\n",
    "image = cv2.imread('sample.png')\n",
    "print(f'画像サイズ：{image.shape}')"
   ]
  },
  {
   "cell_type": "code",
   "execution_count": null,
   "metadata": {},
   "outputs": [],
   "source": [
    "gray = cv2.imread('sample.png', cv2.IMREAD_GRAYSCALE)\n",
    "print(f'画像サイズ:{gray.shape}')"
   ]
  },
  {
   "cell_type": "code",
   "execution_count": null,
   "metadata": {},
   "outputs": [],
   "source": [
    "plt.imshow(cv2.cvtColor(image, cv2.COLOR_BGR2RGB))\n",
    "plt.show()"
   ]
  },
  {
   "cell_type": "code",
   "execution_count": null,
   "metadata": {},
   "outputs": [],
   "source": [
    "plt.imshow(gray, cmap='gray')\n",
    "plt.colorbar() # 横に目盛を表示したい場合\n",
    "plt.show()"
   ]
  },
  {
   "cell_type": "code",
   "execution_count": null,
   "metadata": {},
   "outputs": [],
   "source": [
    "print(image)"
   ]
  },
  {
   "cell_type": "code",
   "execution_count": null,
   "metadata": {},
   "outputs": [],
   "source": [
    "image_vflip = cv2.flip(image, 0) # 上下反転．= image[::-1]としても良い\n",
    "image_hflip = cv2.flip(image, 1) # 左右反転．= image[:,::-1]としても良い\n",
    "image_clip = image[130:200,150:250].copy()\n",
    "image_mask = image.copy()\n",
    "image_mask[130:200,150:250] = 0\n",
    "\n",
    "for img in [image_vflip, image_hflip, image_clip, image_mask]:\n",
    "    plt.imshow(cv2.cvtColor(img, cv2.COLOR_BGR2RGB))\n",
    "    plt.show()\n",
    "\n",
    "cv2.imwrite('image_clip.png', image_clip) # image_clip.pngというファイル名で保存"
   ]
  },
  {
   "cell_type": "code",
   "execution_count": null,
   "metadata": {},
   "outputs": [],
   "source": [
    "import numpy as np\n",
    "B = image[:,:,0]\n",
    "G = image[:,:,1]\n",
    "R = image[:,:,2]\n",
    "newR = 0.393*R + 0.769*G + 0.189*B\n",
    "newG = 0.349*R + 0.686*G + 0.189*B\n",
    "newB = 0.272*R + 0.534*G + 0.131*B\n",
    "sepia = cv2.merge((newB,newG,newR))\n",
    "sepia[sepia > 255] = 255 # 255を超える値を255にする\n",
    "sepia = sepia.astype(np.uint8) # 0～255の8bit整数型（np.uint8）に変換\n",
    "\n",
    "plt.imshow(cv2.cvtColor(sepia,cv2.COLOR_BGR2RGB))\n",
    "plt.show()"
   ]
  },
  {
   "attachments": {},
   "cell_type": "markdown",
   "metadata": {},
   "source": [
    "# 章末問題11-2"
   ]
  },
  {
   "cell_type": "code",
   "execution_count": null,
   "metadata": {},
   "outputs": [],
   "source": [
    "!wget -nc https://github.com/schwalbe1996/ds_media_intro/raw/main/roadscene.png"
   ]
  },
  {
   "cell_type": "code",
   "execution_count": null,
   "metadata": {},
   "outputs": [],
   "source": [
    "image = cv2.imread('roadscene.png', cv2.IMREAD_GRAYSCALE)"
   ]
  },
  {
   "cell_type": "code",
   "execution_count": null,
   "metadata": {},
   "outputs": [],
   "source": [
    "print(f'元画像のサイズ{image.shape}')\n",
    "height, width = image.shape\n",
    "resized_image = cv2.resize(image, (width//2, height//2))\n",
    "print(f'リサイズ後のサイズ{resized_image.shape}')"
   ]
  }
 ],
 "metadata": {
  "kernelspec": {
   "display_name": "opencv2023",
   "language": "python",
   "name": "python3"
  },
  "language_info": {
   "codemirror_mode": {
    "name": "ipython",
    "version": 3
   },
   "file_extension": ".py",
   "mimetype": "text/x-python",
   "name": "python",
   "nbconvert_exporter": "python",
   "pygments_lexer": "ipython3",
   "version": "3.10.9"
  },
  "orig_nbformat": 4,
  "vscode": {
   "interpreter": {
    "hash": "6e0b39ec2ec93d3f787b0b1de3964273a343f383fe8b2c7586e77803ff0c7afa"
   }
  }
 },
 "nbformat": 4,
 "nbformat_minor": 2
}
