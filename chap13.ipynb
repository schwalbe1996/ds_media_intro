{
 "cells": [
  {
   "attachments": {},
   "cell_type": "markdown",
   "metadata": {},
   "source": [
    "[![Colabで開く](https://colab.research.google.com/assets/colab-badge.svg)](https://colab.research.google.com/github/schwalbe1996/ds_media_intro/blob/main/chap13.ipynb)"
   ]
  },
  {
   "attachments": {},
   "cell_type": "markdown",
   "metadata": {},
   "source": [
    "# 13章「画像のフィルタ処理」"
   ]
  },
  {
   "cell_type": "code",
   "execution_count": null,
   "metadata": {},
   "outputs": [],
   "source": [
    "import cv2\n",
    "import matplotlib.pyplot as plt\n",
    "import numpy as np\n",
    "\n",
    "image = cv2.imread('sample.png',cv2.IMREAD_GRAYSCALE)\n",
    "\n",
    "# 平均0，分散15のガウス分布に従うノイズを用意する．\n",
    "sigma = 15\n",
    "noise = np.random.normal(0, sigma, image.shape)\n",
    "\n",
    "src = image + noise\n",
    "# ノイズ加えたあとの画素値が0～255の範囲に収まるように調整\n",
    "src[src > 255] = 255\n",
    "src[src < 0] = 0\n",
    "src = src.astype(np.uint8)\n",
    "\n",
    "plt.figure(figsize=(15,3))\n",
    "plt.subplot(1,3,1)\n",
    "plt.imshow(image, cmap='gray')\n",
    "plt.subplot(1,3,2)\n",
    "plt.imshow(noise, cmap='gray')\n",
    "plt.colorbar()\n",
    "plt.subplot(1,3,3)\n",
    "plt.imshow(src,cmap='gray')\n",
    "plt.show()"
   ]
  },
  {
   "cell_type": "code",
   "execution_count": null,
   "metadata": {},
   "outputs": [],
   "source": [
    "x = np.arange(0, 7, 0.1)\n",
    "y = np.sin(x)\n",
    "\n",
    "sigma = 0.1\n",
    "noise = np.random.normal(0, sigma, y.shape)\n",
    "\n",
    "y2 = y + noise\n",
    "\n",
    "mean = np.convolve(y2, np.ones(5)/5, mode='same')\n",
    "\n",
    "#plt.plot(x,y2,linestyle='solid',label='noisy',color='black')\n",
    "#plt.plot(x,mean,linestyle='dashed',label='mean',color='black')\n",
    "plt.plot(x,y2,linestyle='solid',label='noisy')\n",
    "plt.plot(x,mean,linestyle='dashed',label='mean')\n",
    "plt.legend()\n",
    "plt.show()"
   ]
  },
  {
   "cell_type": "code",
   "execution_count": null,
   "metadata": {},
   "outputs": [],
   "source": [
    "N = 5\n",
    "K = np.ones((N,N))/N**2\n",
    "result = cv2.filter2D(src, ddepth=-1, kernel=K)\n",
    "plt.imshow(result,cmap='gray')\n",
    "plt.show()"
   ]
  },
  {
   "cell_type": "code",
   "execution_count": null,
   "metadata": {},
   "outputs": [],
   "source": [
    "N = 5\n",
    "sigma = 0 # σを0に設定するとNの値から自動的に適切なものを計算する\n",
    "result = cv2.GaussianBlur(src, (N,N), sigma)\n",
    "# カーネルKを計算してから畳み込みを行う場合\n",
    "K = cv2.getGaussianKernel(ksize=N, sigma=sigma)\n",
    "result = cv2.filter2D(src, ddepth=-1, kernel=K)\n",
    "plt.imshow(result,cmap='gray')\n",
    "plt.show()"
   ]
  },
  {
   "cell_type": "code",
   "execution_count": null,
   "metadata": {},
   "outputs": [],
   "source": [
    "N = 5\n",
    "result = cv2.medianBlur(image, N)\n",
    "plt.imshow(result,cmap='gray')\n",
    "plt.show()"
   ]
  },
  {
   "cell_type": "code",
   "execution_count": null,
   "metadata": {},
   "outputs": [],
   "source": [
    "N = 15\n",
    "sigma_c = 30\n",
    "sigma_s = 20\n",
    "result = cv2.bilateralFilter(src, N, sigma_c, sigma_s)\n",
    "plt.imshow(result,cmap='gray')\n",
    "plt.show()"
   ]
  },
  {
   "cell_type": "code",
   "execution_count": null,
   "metadata": {},
   "outputs": [],
   "source": [
    "K_x = np.array([[0,0,0],[-1,0,1],[0,0,0]])\n",
    "# (注)微分の結果が負になる場合があるので，ddepthを浮動小数点型にする\n",
    "diff_x = cv2.filter2D(image, ddepth=cv2.CV_64F, kernel=K_x)\n",
    "\n",
    "\n",
    "K_y = np.array([[0,-1,0],[0,0,0],[0,1,0]])\n",
    "diff_y = cv2.filter2D(image, ddepth=cv2.CV_64F, kernel=K_y)\n",
    "\n",
    "plt.imshow(diff_x,cmap='gray')\n",
    "plt.colorbar()\n",
    "plt.show()\n",
    "plt.imshow(diff_y,cmap='gray')\n",
    "plt.colorbar()\n",
    "plt.show()"
   ]
  },
  {
   "cell_type": "code",
   "execution_count": null,
   "metadata": {},
   "outputs": [],
   "source": [
    "K_laplacian = np.array([[0,1,0],[1,-4,1],[0,1,0]])\n",
    "result_l = cv2.filter2D(image, ddepth=cv2.CV_64F, kernel=K_laplacian)\n",
    "\n",
    "K_sharp = np.array([[0,-1,0],[-1,5,-1],[0,-1,0]])\n",
    "result_s = cv2.filter2D(image, ddepth=cv2.CV_64F, kernel=K_sharp)\n",
    "# 0～255の範囲から外れている画素があるので調整\n",
    "result_s[ result_s < 0 ] = 0\n",
    "result_s[ result_s > 255] = 255\n",
    "\n",
    "plt.imshow(image,cmap='gray')\n",
    "plt.show()\n",
    "plt.imshow(result_l,cmap='gray')\n",
    "plt.colorbar()\n",
    "plt.show()\n",
    "plt.imshow(result_s,cmap='gray')\n",
    "plt.show()"
   ]
  },
  {
   "cell_type": "code",
   "execution_count": null,
   "metadata": {},
   "outputs": [],
   "source": [
    "freq = np.fft.fft2(image)\n",
    "print(freq.dtype) # フーリエ変換の結果は複素数(complex128)になる"
   ]
  },
  {
   "cell_type": "code",
   "execution_count": null,
   "metadata": {},
   "outputs": [],
   "source": [
    "def show_image3d(data,elev=30, azim=-75):\n",
    "    x = np.arange(data.shape[1])\n",
    "    y = np.arange(data.shape[0])\n",
    "    xx,yy = np.meshgrid(x,y)\n",
    "\n",
    "    fig = plt.figure()\n",
    "    ax = fig.add_subplot(111, projection='3d')\n",
    "    ax.view_init(elev=elev, azim=azim) # 3次元の視点角を設定します。\n",
    "\n",
    "    sp = ax.plot_surface(xx,yy,data,cmap='jet',vmin=None,vmax=None)\n",
    "    fig.colorbar(sp,shrink=0.5)\n",
    "    ax.invert_yaxis()\n",
    "    ax.set_xlabel('x')\n",
    "    ax.set_ylabel('y')\n",
    "    ax.set_zlabel('z')\n",
    "\n",
    "    fig.show()"
   ]
  },
  {
   "cell_type": "code",
   "execution_count": null,
   "metadata": {},
   "outputs": [],
   "source": [
    "# 離散フーリエ変換の結果は複素数になるので，可視化のために対数パワースペクトルに変換\n",
    "power_spectrum = np.log( np.abs(freq) )\n",
    "# 上の結果だと低周波成分が図中の端にきて見にくいので，低周波成分が図の中央に寄るように加工\n",
    "power_spectrum = np.fft.fftshift(power_spectrum)\n",
    "plt.imshow(power_spectrum)\n",
    "plt.colorbar()\n",
    "plt.show()"
   ]
  },
  {
   "cell_type": "code",
   "execution_count": null,
   "metadata": {},
   "outputs": [],
   "source": [
    "show_image3d(power_spectrum)"
   ]
  },
  {
   "cell_type": "code",
   "execution_count": null,
   "metadata": {},
   "outputs": [],
   "source": [
    "# （2次元）離散逆フーリエ変換\n",
    "rev_image = np.fft.ifft2(freq)\n",
    "# 逆フーリエ変換の結果も複素数になるので，ここでは絶対値を計算\n",
    "rev_image = np.abs(rev_image)\n",
    "plt.imshow(rev_image,cmap='gray')\n",
    "plt.show()"
   ]
  },
  {
   "cell_type": "code",
   "execution_count": null,
   "metadata": {},
   "outputs": [],
   "source": [
    "filter = np.zeros(image.shape)\n",
    "filter[-1,-1] = 1; filter[-1,0] = 1; filter[-1,1] = 1; \n",
    "filter[0,-1] = 1; filter[0,0] = 1; filter[0,1] = 1; \n",
    "filter[1,-1] = 1; filter[1,0] = 1; filter[1,1] = 1;\n",
    "filter /= 9\n",
    "\n",
    "freq_filter =np.fft.fft2(filter)\n",
    "power_spectrum = np.abs(freq_filter)\n",
    "power_spectrum = np.fft.fftshift(power_spectrum)\n",
    "plt.imshow(power_spectrum,cmap='gray')\n",
    "plt.colorbar()\n",
    "plt.show()\n",
    "show_image3d(power_spectrum) # 3次元表示したい場合はこちら"
   ]
  },
  {
   "cell_type": "code",
   "execution_count": null,
   "metadata": {},
   "outputs": [],
   "source": [
    "filter = np.zeros(image.shape)\n",
    "filter[-1,0] = -1\n",
    "filter[0,-1] = -1; filter[0,0] = 5; filter[0,1] = -1; \n",
    "filter[1,0] = -1\n",
    "\n",
    "freq_filter =np.fft.fft2(filter)\n",
    "power_spectrum = np.abs(freq_filter)\n",
    "power_spectrum = np.fft.fftshift(power_spectrum)\n",
    "plt.imshow(power_spectrum,cmap='gray')\n",
    "plt.colorbar()\n",
    "plt.show()\n",
    "show_image3d(power_spectrum) # 3次元表示したい場合はこちら"
   ]
  },
  {
   "cell_type": "code",
   "execution_count": null,
   "metadata": {},
   "outputs": [],
   "source": [
    "freq = np.fft.fft2(image) # 画像を離散フーリエ変換\n",
    "            \n",
    "s = 50\n",
    "freq[120-s:120+s,160-s:160+s] = 0 # 高周波成分を0にする\n",
    "rev_image = np.fft.ifft2(freq) # 逆フーリエ変換\n",
    "rev_image = np.abs(rev_image)\n",
    "plt.imshow(rev_image, cmap='gray')\n",
    "plt.show()    "
   ]
  },
  {
   "cell_type": "code",
   "execution_count": null,
   "metadata": {},
   "outputs": [],
   "source": []
  },
  {
   "cell_type": "code",
   "execution_count": null,
   "metadata": {},
   "outputs": [],
   "source": []
  }
 ],
 "metadata": {
  "kernelspec": {
   "display_name": "opencv2023",
   "language": "python",
   "name": "python3"
  },
  "language_info": {
   "codemirror_mode": {
    "name": "ipython",
    "version": 3
   },
   "file_extension": ".py",
   "mimetype": "text/x-python",
   "name": "python",
   "nbconvert_exporter": "python",
   "pygments_lexer": "ipython3",
   "version": "3.10.9"
  },
  "orig_nbformat": 4,
  "vscode": {
   "interpreter": {
    "hash": "6e0b39ec2ec93d3f787b0b1de3964273a343f383fe8b2c7586e77803ff0c7afa"
   }
  }
 },
 "nbformat": 4,
 "nbformat_minor": 2
}
