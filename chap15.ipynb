{
 "cells": [
  {
   "attachments": {},
   "cell_type": "markdown",
   "metadata": {},
   "source": [
    "[![Colabで開く](https://colab.research.google.com/assets/colab-badge.svg)](https://colab.research.google.com/github/schwalbe1996/ds_media_intro/blob/main/chap15.ipynb)"
   ]
  },
  {
   "attachments": {},
   "cell_type": "markdown",
   "metadata": {},
   "source": [
    "# 15章「画像データの機械学習」"
   ]
  },
  {
   "cell_type": "code",
   "execution_count": null,
   "metadata": {},
   "outputs": [],
   "source": [
    "from sklearn.datasets import fetch_openml\n",
    "from sklearn.model_selection import train_test_split\n",
    "mnist = fetch_openml('mnist_784',data_home=\".\")\n",
    "Xtrain,Xtest,Ytrain,Ytest = train_test_split(mnist.data, mnist.target, train_size=60000, random_state=0)"
   ]
  },
  {
   "cell_type": "code",
   "execution_count": null,
   "metadata": {},
   "outputs": [],
   "source": [
    "from sklearn.neighbors import KNeighborsClassifier\n",
    "model = KNeighborsClassifier(n_neighbors=1, metric='cosine')\n",
    "model.fit(Xtrain, Ytrain)"
   ]
  },
  {
   "cell_type": "code",
   "execution_count": null,
   "metadata": {},
   "outputs": [],
   "source": [
    "Ypred = model.predict(Xtest)\n",
    "print(Ypred[:10]) # 最初の10個の予測を出力\n",
    "print(Ytest.to_numpy()[:10]) # 最初の10個の正解を出力"
   ]
  },
  {
   "cell_type": "code",
   "execution_count": null,
   "metadata": {},
   "outputs": [],
   "source": [
    "from sklearn.metrics import confusion_matrix, accuracy_score\n",
    "print(confusion_matrix(Ytest,Ypred))\n",
    "print(accuracy_score(Ytest,Ypred))"
   ]
  },
  {
   "cell_type": "code",
   "execution_count": null,
   "metadata": {},
   "outputs": [],
   "source": [
    "import torch\n",
    "from torchvision import datasets\n",
    "from torchvision.transforms import ToTensor\n",
    "from torch.utils.data import DataLoader\n",
    "from torch import nn\n",
    "\n",
    "batch_size=32\n",
    "training_data = datasets.MNIST('data', train=True, download=True, transform=ToTensor())\n",
    "test_data = datasets.MNIST('data', train=False, download=True, transform=ToTensor())\n",
    "train_dataloader = DataLoader(training_data, batch_size, shuffle=True)\n",
    "test_dataloader = DataLoader(test_data, batch_size)"
   ]
  },
  {
   "cell_type": "code",
   "execution_count": null,
   "metadata": {},
   "outputs": [],
   "source": [
    "x,y = next(iter(test_dataloader))\n",
    "print(x.shape, y.shape)\n",
    "print(y[0]) #ひとつめの画像の正解ラベルを表示"
   ]
  },
  {
   "cell_type": "code",
   "execution_count": null,
   "metadata": {},
   "outputs": [],
   "source": [
    "class MyModel(nn.Module):\n",
    "    def __init__(self):\n",
    "        super().__init__()\n",
    "        self.middle = nn.Sequential(\n",
    "            nn.Linear(784, 256),\n",
    "            nn.Sigmoid()\n",
    "        )\n",
    "        self.last = nn.Linear(256, 10)\n",
    "    \n",
    "    def forward(self, x):\n",
    "        out = x.reshape(x.size(0), -1)\n",
    "        out = self.middle(out)\n",
    "        out = self.last(out)\n",
    "        return out"
   ]
  },
  {
   "cell_type": "code",
   "execution_count": null,
   "metadata": {},
   "outputs": [],
   "source": [
    "# GPUが使える場合はGPUを使う\n",
    "device = \"cuda\" if torch.cuda.is_available() else \"cpu\"\n",
    "\n",
    "model = MyModel().to(device)\n",
    "loss_func = nn.CrossEntropyLoss() # 損失関数にクロスエントロピーを用いる\n",
    "optimizer = torch.optim.Adam(model.parameters(), lr=1.0e-4) # 最適化手法にAdamを用いる\n",
    "    \n",
    "epochs = 10 # エポック数の設定．学習データをepochs回繰り返し用いる．\n",
    "for epoch in range(epochs):\n",
    "    train_loss = 0\n",
    "    test_loss = 0\n",
    "    correct = 0\n",
    "    # 学習部分\n",
    "    model.train()\n",
    "    for i, (X,y) in enumerate(train_dataloader):\n",
    "        X = X.to(device)\n",
    "        y = y.to(device)\n",
    "        \n",
    "        model.zero_grad()\n",
    "        y_pred = model(X)\n",
    "        loss = loss_func(y_pred, y)        \n",
    "        loss.backward()\n",
    "        optimizer.step()\n",
    "        \n",
    "        train_loss += loss.item()\n",
    "        train_loss /= len(train_dataloader)\n",
    "    # テストデータを用いて損失と正解率を計算\n",
    "    model.eval()\n",
    "    for i, (X,y) in enumerate(test_dataloader):\n",
    "        X = X.to(device)\n",
    "        y = y.to(device)\n",
    "        \n",
    "        y_pred = model(X)\n",
    "        loss = loss_func(y_pred, y)\n",
    "        test_loss += loss.item()\n",
    "        correct += (y_pred.argmax(dim=1) == y).sum().item()\n",
    "            \n",
    "    test_loss /= len(test_dataloader)\n",
    "    correct /= len(test_dataloader.dataset)\n",
    "    print('Epoch:', epoch, 'Train Loss:', train_loss, 'Test Loss:', test_loss, 'Accuracy:', correct)"
   ]
  },
  {
   "cell_type": "code",
   "execution_count": null,
   "metadata": {},
   "outputs": [],
   "source": [
    "x,y = next(iter(test_dataloader))\n",
    "model.eval()\n",
    "x = x.to(device)\n",
    "pred = model(x).argmax(dim=1).cpu() # 予測部分\n",
    "print(y[0:10]) # 最初の10個の正解ラベルを出力\n",
    "print(pred[0:10]) # 最初の10個の予測を出力"
   ]
  },
  {
   "cell_type": "code",
   "execution_count": null,
   "metadata": {},
   "outputs": [],
   "source": [
    "class MyModel(nn.Module):\n",
    "    def __init__(self):\n",
    "        super().__init__()\n",
    "        self.layer1 = nn.Sequential(\n",
    "            nn.Conv2d(1, 6, 5),\n",
    "            nn.ReLU(),\n",
    "            nn.MaxPool2d(2,2)\n",
    "        )\n",
    "        self.layer2 = nn.Sequential(\n",
    "            nn.Conv2d(6, 16, 5),\n",
    "            nn.ReLU(),\n",
    "            nn.MaxPool2d(2,2)\n",
    "        )\n",
    "        self.fc1 = nn.Sequential(\n",
    "            nn.Linear(16*4*4, 120),\n",
    "            nn.ReLU()\n",
    "        )\n",
    "        self.fc2 = nn.Sequential(\n",
    "            nn.Linear(120, 84),\n",
    "            nn.ReLU()\n",
    "        )\n",
    "        self.fc3 = nn.Linear(84, 10)\n",
    "        \n",
    "    def forward(self, x):\n",
    "        out = self.layer1(x) # 6x12x12\n",
    "        out = self.layer2(out) # 16x4x4\n",
    "        out = out.reshape(out.size(0), -1)\n",
    "        out = self.fc1(out)\n",
    "        out = self.fc2(out)\n",
    "        out = self.fc3(out)\n",
    "        return out"
   ]
  },
  {
   "cell_type": "code",
   "execution_count": null,
   "metadata": {},
   "outputs": [],
   "source": [
    "training_data = datasets.FashionMNIST('data', train=True, download=True, transform=ToTensor())\n",
    "test_data = datasets.FashionMNIST('data', train=False, download=True, transform=ToTensor())\n",
    "train_dataloader = DataLoader(training_data, batch_size, shuffle=True)\n",
    "test_dataloader = DataLoader(test_data, batch_size)"
   ]
  }
 ],
 "metadata": {
  "kernelspec": {
   "display_name": "myenv2023",
   "language": "python",
   "name": "python3"
  },
  "language_info": {
   "codemirror_mode": {
    "name": "ipython",
    "version": 3
   },
   "file_extension": ".py",
   "mimetype": "text/x-python",
   "name": "python",
   "nbconvert_exporter": "python",
   "pygments_lexer": "ipython3",
   "version": "3.10.9"
  },
  "orig_nbformat": 4,
  "vscode": {
   "interpreter": {
    "hash": "3631ab659cf6d82036310f22e483971b8f79624c4231dbbebe812d762698d6dd"
   }
  }
 },
 "nbformat": 4,
 "nbformat_minor": 2
}
